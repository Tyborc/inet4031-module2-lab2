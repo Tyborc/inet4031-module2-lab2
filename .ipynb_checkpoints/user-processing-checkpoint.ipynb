{
 "cells": [
  {
   "cell_type": "code",
   "execution_count": 9,
   "id": "051fcda9-5f55-4535-9425-e45642017d1c",
   "metadata": {},
   "outputs": [
    {
     "ename": "IndentationError",
     "evalue": "expected an indented block after 'if' statement on line 13 (3616943541.py, line 15)",
     "output_type": "error",
     "traceback": [
      "\u001b[1;36m  Cell \u001b[1;32mIn[9], line 15\u001b[1;36m\u001b[0m\n\u001b[1;33m    for userline in listOfUsers:\u001b[0m\n\u001b[1;37m    ^\u001b[0m\n\u001b[1;31mIndentationError\u001b[0m\u001b[1;31m:\u001b[0m expected an indented block after 'if' statement on line 13\n"
     ]
    }
   ],
   "source": [
    "\n",
    "    #open the user list file\n",
    "\n",
    "userFile = open(\"list-of-users.txt\", \"r\")\n",
    "\n",
    "\n",
    "    #load the lines of the file into a list\n",
    "listOfUsers = userFile.readlines()\n",
    "print(\"\\nlist-of-users was read.\")\n",
    "\n",
    "    #ask the user to proceed\n",
    "answer = input(\"\\nDo you want to print out the list of users? (Y or N)\")\n",
    "\n",
    "if answer == \"Y\" or answer == \"y\":\n",
    "\n",
    "    for userline in listOfUsers:\n",
    "        print(\"\\n\", userline)\n",
    "\n",
    "else:\n",
    "\n",
    "    print(\"\\nOk not printing, ending program.\")\n",
    "\n",
    "print(\"\\nEnd of User Processing\\n\")\n",
    "\n"
   ]
  },
  {
   "cell_type": "code",
   "execution_count": null,
   "id": "5480e00a-e444-46d4-9538-ebda6d0a9f09",
   "metadata": {},
   "outputs": [],
   "source": []
  },
  {
   "cell_type": "code",
   "execution_count": null,
   "id": "284663f7-4c7a-4131-921c-c91b96e7c27a",
   "metadata": {},
   "outputs": [],
   "source": []
  },
  {
   "cell_type": "code",
   "execution_count": null,
   "id": "b28543ba-fd89-4c7c-b51e-ce347771b3b3",
   "metadata": {},
   "outputs": [],
   "source": []
  },
  {
   "cell_type": "code",
   "execution_count": null,
   "id": "dfe5e5ee-b774-4544-a34f-f3d9381b2444",
   "metadata": {},
   "outputs": [],
   "source": []
  },
  {
   "cell_type": "code",
   "execution_count": null,
   "id": "4d7828ae-a340-49f2-bc41-8e7a09df898d",
   "metadata": {},
   "outputs": [],
   "source": []
  },
  {
   "cell_type": "code",
   "execution_count": null,
   "id": "95d57467-c038-4e79-a125-3ba39d12322c",
   "metadata": {},
   "outputs": [],
   "source": []
  },
  {
   "cell_type": "code",
   "execution_count": null,
   "id": "2d685d04-32f1-45b8-ade1-5e112670247b",
   "metadata": {},
   "outputs": [],
   "source": []
  },
  {
   "cell_type": "code",
   "execution_count": null,
   "id": "0339b44e-f6d4-429d-9080-3ba19fe3aeef",
   "metadata": {},
   "outputs": [],
   "source": []
  },
  {
   "cell_type": "code",
   "execution_count": null,
   "id": "9f16fc69-0f39-488c-bea2-722868441a28",
   "metadata": {},
   "outputs": [],
   "source": []
  }
 ],
 "metadata": {
  "kernelspec": {
   "display_name": "Python 3 (ipykernel)",
   "language": "python",
   "name": "python3"
  },
  "language_info": {
   "codemirror_mode": {
    "name": "ipython",
    "version": 3
   },
   "file_extension": ".py",
   "mimetype": "text/x-python",
   "name": "python",
   "nbconvert_exporter": "python",
   "pygments_lexer": "ipython3",
   "version": "3.13.1"
  }
 },
 "nbformat": 4,
 "nbformat_minor": 5
}
